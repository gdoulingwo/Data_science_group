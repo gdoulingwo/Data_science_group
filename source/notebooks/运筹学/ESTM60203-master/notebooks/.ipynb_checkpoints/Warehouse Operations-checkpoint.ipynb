{
 "metadata": {
  "name": ""
 },
 "nbformat": 3,
 "nbformat_minor": 0,
 "worksheets": [
  {
   "cells": [
    {
     "cell_type": "heading",
     "level": 1,
     "metadata": {},
     "source": [
      "Warehouse Operations"
     ]
    },
    {
     "cell_type": "heading",
     "level": 2,
     "metadata": {},
     "source": [
      "SimPy Installation"
     ]
    },
    {
     "cell_type": "code",
     "collapsed": false,
     "input": [
      "!pip install simpy\n",
      "import simpy\n",
      "simpy.test()"
     ],
     "language": "python",
     "metadata": {},
     "outputs": [
      {
       "output_type": "stream",
       "stream": "stdout",
       "text": [
        "Requirement already satisfied (use --upgrade to upgrade): simpy in /Applications/anaconda/lib/python2.7/site-packages\r\n",
        "Cleaning up...\r\n"
       ]
      },
      {
       "output_type": "stream",
       "stream": "stdout",
       "text": [
        "============================= test session starts =============================="
       ]
      },
      {
       "output_type": "stream",
       "stream": "stdout",
       "text": [
        "\n"
       ]
      },
      {
       "output_type": "stream",
       "stream": "stdout",
       "text": [
        "platform darwin -- Python 2.7.6 -- py-1.4.20 -- pytest-2.5.2"
       ]
      },
      {
       "output_type": "stream",
       "stream": "stdout",
       "text": [
        "\n"
       ]
      },
      {
       "output_type": "stream",
       "stream": "stdout",
       "text": [
        "collected 112 items"
       ]
      },
      {
       "output_type": "stream",
       "stream": "stdout",
       "text": [
        "\n"
       ]
      },
      {
       "output_type": "stream",
       "stream": "stdout",
       "text": [
        "\n"
       ]
      },
      {
       "output_type": "stream",
       "stream": "stdout",
       "text": [
        "../../../../../../Applications/anaconda/lib/python2.7/site-packages/simpy/test/test_condition.py "
       ]
      },
      {
       "output_type": "stream",
       "stream": "stdout",
       "text": [
        "."
       ]
      },
      {
       "output_type": "stream",
       "stream": "stdout",
       "text": [
        "."
       ]
      },
      {
       "output_type": "stream",
       "stream": "stdout",
       "text": [
        "."
       ]
      },
      {
       "output_type": "stream",
       "stream": "stdout",
       "text": [
        "."
       ]
      },
      {
       "output_type": "stream",
       "stream": "stdout",
       "text": [
        "."
       ]
      },
      {
       "output_type": "stream",
       "stream": "stdout",
       "text": [
        "."
       ]
      },
      {
       "output_type": "stream",
       "stream": "stdout",
       "text": [
        "."
       ]
      },
      {
       "output_type": "stream",
       "stream": "stdout",
       "text": [
        "."
       ]
      },
      {
       "output_type": "stream",
       "stream": "stdout",
       "text": [
        "."
       ]
      },
      {
       "output_type": "stream",
       "stream": "stdout",
       "text": [
        "."
       ]
      },
      {
       "output_type": "stream",
       "stream": "stdout",
       "text": [
        "."
       ]
      },
      {
       "output_type": "stream",
       "stream": "stdout",
       "text": [
        "."
       ]
      },
      {
       "output_type": "stream",
       "stream": "stdout",
       "text": [
        "."
       ]
      },
      {
       "output_type": "stream",
       "stream": "stdout",
       "text": [
        "."
       ]
      },
      {
       "output_type": "stream",
       "stream": "stdout",
       "text": [
        "."
       ]
      },
      {
       "output_type": "stream",
       "stream": "stdout",
       "text": [
        "\n"
       ]
      },
      {
       "output_type": "stream",
       "stream": "stdout",
       "text": [
        "../../../../../../Applications/anaconda/lib/python2.7/site-packages/simpy/test/test_environment.py "
       ]
      },
      {
       "output_type": "stream",
       "stream": "stdout",
       "text": [
        "."
       ]
      },
      {
       "output_type": "stream",
       "stream": "stdout",
       "text": [
        "."
       ]
      },
      {
       "output_type": "stream",
       "stream": "stdout",
       "text": [
        "."
       ]
      },
      {
       "output_type": "stream",
       "stream": "stdout",
       "text": [
        "."
       ]
      },
      {
       "output_type": "stream",
       "stream": "stdout",
       "text": [
        "\n"
       ]
      },
      {
       "output_type": "stream",
       "stream": "stdout",
       "text": [
        "../../../../../../Applications/anaconda/lib/python2.7/site-packages/simpy/test/test_event.py "
       ]
      },
      {
       "output_type": "stream",
       "stream": "stdout",
       "text": [
        "."
       ]
      },
      {
       "output_type": "stream",
       "stream": "stdout",
       "text": [
        "."
       ]
      },
      {
       "output_type": "stream",
       "stream": "stdout",
       "text": [
        "."
       ]
      },
      {
       "output_type": "stream",
       "stream": "stdout",
       "text": [
        "."
       ]
      },
      {
       "output_type": "stream",
       "stream": "stdout",
       "text": [
        "."
       ]
      },
      {
       "output_type": "stream",
       "stream": "stdout",
       "text": [
        "."
       ]
      },
      {
       "output_type": "stream",
       "stream": "stdout",
       "text": [
        "\n"
       ]
      },
      {
       "output_type": "stream",
       "stream": "stdout",
       "text": [
        "../../../../../../Applications/anaconda/lib/python2.7/site-packages/simpy/test/test_exceptions.py "
       ]
      },
      {
       "output_type": "stream",
       "stream": "stdout",
       "text": [
        "."
       ]
      },
      {
       "output_type": "stream",
       "stream": "stdout",
       "text": [
        "."
       ]
      },
      {
       "output_type": "stream",
       "stream": "stdout",
       "text": [
        "."
       ]
      },
      {
       "output_type": "stream",
       "stream": "stdout",
       "text": [
        "s"
       ]
      },
      {
       "output_type": "stream",
       "stream": "stdout",
       "text": [
        "."
       ]
      },
      {
       "output_type": "stream",
       "stream": "stdout",
       "text": [
        "."
       ]
      },
      {
       "output_type": "stream",
       "stream": "stdout",
       "text": [
        "."
       ]
      },
      {
       "output_type": "stream",
       "stream": "stdout",
       "text": [
        "."
       ]
      },
      {
       "output_type": "stream",
       "stream": "stdout",
       "text": [
        "\n"
       ]
      },
      {
       "output_type": "stream",
       "stream": "stdout",
       "text": [
        "../../../../../../Applications/anaconda/lib/python2.7/site-packages/simpy/test/test_interrupts.py "
       ]
      },
      {
       "output_type": "stream",
       "stream": "stdout",
       "text": [
        "."
       ]
      },
      {
       "output_type": "stream",
       "stream": "stdout",
       "text": [
        "."
       ]
      },
      {
       "output_type": "stream",
       "stream": "stdout",
       "text": [
        "."
       ]
      },
      {
       "output_type": "stream",
       "stream": "stdout",
       "text": [
        "."
       ]
      },
      {
       "output_type": "stream",
       "stream": "stdout",
       "text": [
        "."
       ]
      },
      {
       "output_type": "stream",
       "stream": "stdout",
       "text": [
        "."
       ]
      },
      {
       "output_type": "stream",
       "stream": "stdout",
       "text": [
        "."
       ]
      },
      {
       "output_type": "stream",
       "stream": "stdout",
       "text": [
        "."
       ]
      },
      {
       "output_type": "stream",
       "stream": "stdout",
       "text": [
        "."
       ]
      },
      {
       "output_type": "stream",
       "stream": "stdout",
       "text": [
        "."
       ]
      },
      {
       "output_type": "stream",
       "stream": "stdout",
       "text": [
        "\n"
       ]
      },
      {
       "output_type": "stream",
       "stream": "stdout",
       "text": [
        "../../../../../../Applications/anaconda/lib/python2.7/site-packages/simpy/test/test_process.py "
       ]
      },
      {
       "output_type": "stream",
       "stream": "stdout",
       "text": [
        "."
       ]
      },
      {
       "output_type": "stream",
       "stream": "stdout",
       "text": [
        "."
       ]
      },
      {
       "output_type": "stream",
       "stream": "stdout",
       "text": [
        "."
       ]
      },
      {
       "output_type": "stream",
       "stream": "stdout",
       "text": [
        "."
       ]
      },
      {
       "output_type": "stream",
       "stream": "stdout",
       "text": [
        "."
       ]
      },
      {
       "output_type": "stream",
       "stream": "stdout",
       "text": [
        "s"
       ]
      },
      {
       "output_type": "stream",
       "stream": "stdout",
       "text": [
        "."
       ]
      },
      {
       "output_type": "stream",
       "stream": "stdout",
       "text": [
        "."
       ]
      },
      {
       "output_type": "stream",
       "stream": "stdout",
       "text": [
        "."
       ]
      },
      {
       "output_type": "stream",
       "stream": "stdout",
       "text": [
        "."
       ]
      },
      {
       "output_type": "stream",
       "stream": "stdout",
       "text": [
        "."
       ]
      },
      {
       "output_type": "stream",
       "stream": "stdout",
       "text": [
        "\n"
       ]
      },
      {
       "output_type": "stream",
       "stream": "stdout",
       "text": [
        "../../../../../../Applications/anaconda/lib/python2.7/site-packages/simpy/test/test_resources.py "
       ]
      },
      {
       "output_type": "stream",
       "stream": "stdout",
       "text": [
        "."
       ]
      },
      {
       "output_type": "stream",
       "stream": "stdout",
       "text": [
        "."
       ]
      },
      {
       "output_type": "stream",
       "stream": "stdout",
       "text": [
        "."
       ]
      },
      {
       "output_type": "stream",
       "stream": "stdout",
       "text": [
        "."
       ]
      },
      {
       "output_type": "stream",
       "stream": "stdout",
       "text": [
        "."
       ]
      },
      {
       "output_type": "stream",
       "stream": "stdout",
       "text": [
        "."
       ]
      },
      {
       "output_type": "stream",
       "stream": "stdout",
       "text": [
        "."
       ]
      },
      {
       "output_type": "stream",
       "stream": "stdout",
       "text": [
        "."
       ]
      },
      {
       "output_type": "stream",
       "stream": "stdout",
       "text": [
        "."
       ]
      },
      {
       "output_type": "stream",
       "stream": "stdout",
       "text": [
        "."
       ]
      },
      {
       "output_type": "stream",
       "stream": "stdout",
       "text": [
        "."
       ]
      },
      {
       "output_type": "stream",
       "stream": "stdout",
       "text": [
        "."
       ]
      },
      {
       "output_type": "stream",
       "stream": "stdout",
       "text": [
        "."
       ]
      },
      {
       "output_type": "stream",
       "stream": "stdout",
       "text": [
        "."
       ]
      },
      {
       "output_type": "stream",
       "stream": "stdout",
       "text": [
        "."
       ]
      },
      {
       "output_type": "stream",
       "stream": "stdout",
       "text": [
        "."
       ]
      },
      {
       "output_type": "stream",
       "stream": "stdout",
       "text": [
        "."
       ]
      },
      {
       "output_type": "stream",
       "stream": "stdout",
       "text": [
        "."
       ]
      },
      {
       "output_type": "stream",
       "stream": "stdout",
       "text": [
        "."
       ]
      },
      {
       "output_type": "stream",
       "stream": "stdout",
       "text": [
        "."
       ]
      },
      {
       "output_type": "stream",
       "stream": "stdout",
       "text": [
        "."
       ]
      },
      {
       "output_type": "stream",
       "stream": "stdout",
       "text": [
        "."
       ]
      },
      {
       "output_type": "stream",
       "stream": "stdout",
       "text": [
        "."
       ]
      },
      {
       "output_type": "stream",
       "stream": "stdout",
       "text": [
        "."
       ]
      },
      {
       "output_type": "stream",
       "stream": "stdout",
       "text": [
        "."
       ]
      },
      {
       "output_type": "stream",
       "stream": "stdout",
       "text": [
        "."
       ]
      },
      {
       "output_type": "stream",
       "stream": "stdout",
       "text": [
        "."
       ]
      },
      {
       "output_type": "stream",
       "stream": "stdout",
       "text": [
        "."
       ]
      },
      {
       "output_type": "stream",
       "stream": "stdout",
       "text": [
        "\n"
       ]
      },
      {
       "output_type": "stream",
       "stream": "stdout",
       "text": [
        "../../../../../../Applications/anaconda/lib/python2.7/site-packages/simpy/test/test_rt.py "
       ]
      },
      {
       "output_type": "stream",
       "stream": "stdout",
       "text": [
        "."
       ]
      },
      {
       "output_type": "stream",
       "stream": "stdout",
       "text": [
        "."
       ]
      },
      {
       "output_type": "stream",
       "stream": "stdout",
       "text": [
        "."
       ]
      },
      {
       "output_type": "stream",
       "stream": "stdout",
       "text": [
        "."
       ]
      },
      {
       "output_type": "stream",
       "stream": "stdout",
       "text": [
        "."
       ]
      },
      {
       "output_type": "stream",
       "stream": "stdout",
       "text": [
        "."
       ]
      },
      {
       "output_type": "stream",
       "stream": "stdout",
       "text": [
        "."
       ]
      },
      {
       "output_type": "stream",
       "stream": "stdout",
       "text": [
        "\n"
       ]
      },
      {
       "output_type": "stream",
       "stream": "stdout",
       "text": [
        "../../../../../../Applications/anaconda/lib/python2.7/site-packages/simpy/test/test_timeout.py "
       ]
      },
      {
       "output_type": "stream",
       "stream": "stdout",
       "text": [
        "."
       ]
      },
      {
       "output_type": "stream",
       "stream": "stdout",
       "text": [
        "."
       ]
      },
      {
       "output_type": "stream",
       "stream": "stdout",
       "text": [
        "."
       ]
      },
      {
       "output_type": "stream",
       "stream": "stdout",
       "text": [
        "."
       ]
      },
      {
       "output_type": "stream",
       "stream": "stdout",
       "text": [
        "."
       ]
      },
      {
       "output_type": "stream",
       "stream": "stdout",
       "text": [
        "\n"
       ]
      },
      {
       "output_type": "stream",
       "stream": "stdout",
       "text": [
        "../../../../../../Applications/anaconda/lib/python2.7/site-packages/simpy/test/test_util.py "
       ]
      },
      {
       "output_type": "stream",
       "stream": "stdout",
       "text": [
        "."
       ]
      },
      {
       "output_type": "stream",
       "stream": "stdout",
       "text": [
        "."
       ]
      },
      {
       "output_type": "stream",
       "stream": "stdout",
       "text": [
        "."
       ]
      },
      {
       "output_type": "stream",
       "stream": "stdout",
       "text": [
        "."
       ]
      },
      {
       "output_type": "stream",
       "stream": "stdout",
       "text": [
        "."
       ]
      },
      {
       "output_type": "stream",
       "stream": "stdout",
       "text": [
        "."
       ]
      },
      {
       "output_type": "stream",
       "stream": "stdout",
       "text": [
        "."
       ]
      },
      {
       "output_type": "stream",
       "stream": "stdout",
       "text": [
        "."
       ]
      },
      {
       "output_type": "stream",
       "stream": "stdout",
       "text": [
        "."
       ]
      },
      {
       "output_type": "stream",
       "stream": "stdout",
       "text": [
        "."
       ]
      },
      {
       "output_type": "stream",
       "stream": "stdout",
       "text": [
        "."
       ]
      },
      {
       "output_type": "stream",
       "stream": "stdout",
       "text": [
        "."
       ]
      },
      {
       "output_type": "stream",
       "stream": "stdout",
       "text": [
        "."
       ]
      },
      {
       "output_type": "stream",
       "stream": "stdout",
       "text": [
        "."
       ]
      },
      {
       "output_type": "stream",
       "stream": "stdout",
       "text": [
        "."
       ]
      },
      {
       "output_type": "stream",
       "stream": "stdout",
       "text": [
        "."
       ]
      },
      {
       "output_type": "stream",
       "stream": "stdout",
       "text": [
        "."
       ]
      },
      {
       "output_type": "stream",
       "stream": "stdout",
       "text": [
        "."
       ]
      },
      {
       "output_type": "stream",
       "stream": "stdout",
       "text": [
        "\n"
       ]
      },
      {
       "output_type": "stream",
       "stream": "stdout",
       "text": [
        "\n"
       ]
      },
      {
       "output_type": "stream",
       "stream": "stdout",
       "text": [
        "==================== 110 passed, 2 skipped in 1.82 seconds ====================="
       ]
      },
      {
       "output_type": "stream",
       "stream": "stdout",
       "text": [
        "\n"
       ]
      }
     ],
     "prompt_number": 1
    },
    {
     "cell_type": "heading",
     "level": 3,
     "metadata": {},
     "source": [
      "Minimum SimPy Model"
     ]
    },
    {
     "cell_type": "markdown",
     "metadata": {},
     "source": [
      "Import SimPy, create a simulation environment, and run it for 10 times units. This doesn't do much because there are no proceses or resources in the environment, but it's a start. We'll run the simulation for 1440 minutes (i.e., 24 hours)."
     ]
    },
    {
     "cell_type": "code",
     "collapsed": false,
     "input": [
      "import simpy\n",
      "\n",
      "# create the simulation environment\n",
      "env = simpy.Environment()\n",
      "\n",
      "# start processes\n",
      "env.run(until=1440)"
     ],
     "language": "python",
     "metadata": {},
     "outputs": [],
     "prompt_number": 2
    },
    {
     "cell_type": "heading",
     "level": 3,
     "metadata": {},
     "source": [
      "tireOrder Process"
     ]
    },
    {
     "cell_type": "markdown",
     "metadata": {},
     "source": [
      "Let's add a process. A process is an ordered sequence of events. The process will consist of a single tire order which must pass through a sequence of events."
     ]
    },
    {
     "cell_type": "code",
     "collapsed": false,
     "input": [
      "import simpy\n",
      "\n",
      "def tireOrder(env):   \n",
      "    print \"Order Placed: {:4.1f}\".format(env.now)\n",
      "    yield env.timeout(5)\n",
      "    print \"   Laid Down: {:4.1f}\".format(env.now)\n",
      "    yield env.timeout(10)\n",
      "    print \"       Taped: {:4.1f}\".format(env.now)\n",
      "    yield env.timeout(2)\n",
      "    print \"    Strapped: {:4.1f}\".format(env.now)\n",
      "    yield env.timeout(2)\n",
      "    print \"     Shipped: {:4.1f}\".format(env.now)\n",
      "\n",
      "# create the simulation environment\n",
      "env = simpy.Environment()\n",
      "\n",
      "# create a tireOrder\n",
      "env.process(tireOrder(env))\n",
      "\n",
      "# run the simulation\n",
      "env.run(until=1440)"
     ],
     "language": "python",
     "metadata": {},
     "outputs": [
      {
       "output_type": "stream",
       "stream": "stdout",
       "text": [
        "Order Placed:  0.0\n",
        "   Laid Down:  5.0\n",
        "       Taped: 15.0\n",
        "    Strapped: 17.0\n",
        "     Shipped: 19.0\n"
       ]
      }
     ],
     "prompt_number": 3
    },
    {
     "cell_type": "heading",
     "level": 3,
     "metadata": {},
     "source": [
      "tireOrderGenerator"
     ]
    },
    {
     "cell_type": "markdown",
     "metadata": {},
     "source": [
      "One order isn't very interesting. Let's create a sequence of tire orders. We'll give tire order a unique name using `itertools.count()`."
     ]
    },
    {
     "cell_type": "code",
     "collapsed": false,
     "input": [
      "import simpy\n",
      "import itertools\n",
      "\n",
      "T_SIM = 120\n",
      "\n",
      "def tireOrder(env,name):   \n",
      "    print \"\\n {:>6.1f}: {:s} Placed\".format(env.now,name)\n",
      "    yield env.timeout(5)\n",
      "    print \" {:>6.1f}: {:s} Laid Down\".format(env.now,name)\n",
      "    yield env.timeout(10)\n",
      "    print \" {:>6.1f}: {:s} Taped\".format(env.now,name)\n",
      "    yield env.timeout(2)\n",
      "    print \" {:>6.1f}: {:s} Strapped\".format(env.now,name)\n",
      "    yield env.timeout(2)\n",
      "    print \" {:>6.1f}: {:s} Shipped\".format(env.now,name)\n",
      "\n",
      "def tireOrderGenerator(env):\n",
      "    for k in itertools.count():\n",
      "        yield env.timeout(30)\n",
      "        env.process(tireOrder(env,\"Order {:2d}\".format(k)))\n",
      "\n",
      "# create the simulation environment\n",
      "env = simpy.Environment()\n",
      "\n",
      "# create a tireOrder\n",
      "env.process(tireOrderGenerator(env))\n",
      "\n",
      "# run the simulation\n",
      "env.run(until=T_SIM)"
     ],
     "language": "python",
     "metadata": {},
     "outputs": [
      {
       "output_type": "stream",
       "stream": "stdout",
       "text": [
        "\n",
        "   30.0: Order  0 Placed\n",
        "   35.0: Order  0 Laid Down\n",
        "   45.0: Order  0 Taped\n",
        "   47.0: Order  0 Strapped\n",
        "   49.0: Order  0 Shipped\n",
        "\n",
        "   60.0: Order  1 Placed\n",
        "   65.0: Order  1 Laid Down\n",
        "   75.0: Order  1 Taped\n",
        "   77.0: Order  1 Strapped\n",
        "   79.0: Order  1 Shipped\n",
        "\n",
        "   90.0: Order  2 Placed\n",
        "   95.0: Order  2 Laid Down\n",
        "  105.0: Order  2 Taped\n",
        "  107.0: Order  2 Strapped\n",
        "  109.0: Order  2 Shipped\n"
       ]
      }
     ],
     "prompt_number": 4
    },
    {
     "cell_type": "heading",
     "level": 3,
     "metadata": {},
     "source": [
      "Poisson Order Process"
     ]
    },
    {
     "cell_type": "markdown",
     "metadata": {},
     "source": [
      "Let's add some randomness to the order placement."
     ]
    },
    {
     "cell_type": "code",
     "collapsed": false,
     "input": [
      "import simpy\n",
      "import itertools\n",
      "import random\n",
      "\n",
      "T_ORDER = 30\n",
      "T_SIM = 120\n",
      "\n",
      "def tireOrder(env,name):   \n",
      "    print \" ***{:>6.1f}: {:s} Placed\".format(env.now,name)\n",
      "    yield env.timeout(5)\n",
      "    print \"    {:>6.1f}: {:s} Laid Down\".format(env.now,name)\n",
      "    yield env.timeout(10)\n",
      "    print \"    {:>6.1f}: {:s} Taped\".format(env.now,name)\n",
      "    yield env.timeout(2)\n",
      "    print \"    {:>6.1f}: {:s} Strapped\".format(env.now,name)\n",
      "    yield env.timeout(2)\n",
      "    print \" -->{:>6.1f}: {:s} Shipped\".format(env.now,name)\n",
      "\n",
      "def tireOrderGenerator(env):\n",
      "    for k in itertools.count():\n",
      "        yield env.timeout(random.expovariate(1.0/T_ORDER))\n",
      "        env.process(tireOrder(env,\"Order {:2d}\".format(k)))\n",
      "\n",
      "# create the simulation environment\n",
      "env = simpy.Environment()\n",
      "\n",
      "# create a tireOrder\n",
      "env.process(tireOrderGenerator(env))\n",
      "\n",
      "# run the simulation\n",
      "env.run(until=T_SIM)"
     ],
     "language": "python",
     "metadata": {},
     "outputs": [
      {
       "output_type": "stream",
       "stream": "stdout",
       "text": [
        " ***  31.5: Order  0 Placed\n",
        " ***  35.1: Order  1 Placed\n",
        " ***  36.2: Order  2 Placed\n",
        "      36.5: Order  0 Laid Down\n",
        "      40.1: Order  1 Laid Down\n",
        "      41.2: Order  2 Laid Down\n",
        " ***  42.1: Order  3 Placed\n",
        "      46.5: Order  0 Taped\n",
        " ***  46.7: Order  4 Placed\n",
        "      47.1: Order  3 Laid Down\n",
        "      48.5: Order  0 Strapped\n",
        "      50.1: Order  1 Taped\n",
        " -->  50.5: Order  0 Shipped\n",
        "      51.2: Order  2 Taped\n",
        "      51.7: Order  4 Laid Down\n",
        "      52.1: Order  1 Strapped\n",
        "      53.2: Order  2 Strapped\n",
        " -->  54.1: Order  1 Shipped\n",
        " -->  55.2: Order  2 Shipped\n",
        "      57.1: Order  3 Taped\n",
        "      59.1: Order  3 Strapped\n",
        " ***  59.3: Order  5 Placed\n",
        " -->  61.1: Order  3 Shipped\n",
        "      61.7: Order  4 Taped\n",
        "      63.7: Order  4 Strapped\n",
        "      64.3: Order  5 Laid Down\n",
        " -->  65.7: Order  4 Shipped\n",
        "      74.3: Order  5 Taped\n",
        "      76.3: Order  5 Strapped\n",
        " -->  78.3: Order  5 Shipped\n",
        " ***  89.6: Order  6 Placed\n",
        "      94.6: Order  6 Laid Down\n",
        "     104.6: Order  6 Taped\n",
        " *** 105.7: Order  7 Placed\n",
        "     106.6: Order  6 Strapped\n",
        " --> 108.6: Order  6 Shipped\n",
        "     110.7: Order  7 Laid Down\n"
       ]
      }
     ],
     "prompt_number": 5
    },
    {
     "cell_type": "markdown",
     "metadata": {},
     "source": [
      "The orders overlap which, we expect, will create a competition for resources. We'll add the DOT entry step which was omitted in the cells above, and explore how throught put depends on the number of available resources."
     ]
    },
    {
     "cell_type": "code",
     "collapsed": false,
     "input": [
      "import simpy\n",
      "import itertools\n",
      "import random\n",
      "\n",
      "T_ORDER = 10\n",
      "T_SIM = 120\n",
      "\n",
      "def tireOrder(env,name,dot):   \n",
      "    print \" ***{:>6.1f}: {:s} Placed\".format(env.now,name)\n",
      "    yield env.timeout(5)\n",
      "    print \"    {:>6.1f}: {:s} Laid Down\".format(env.now,name)\n",
      "    yield env.timeout(10)\n",
      "    with dot.request() as req:\n",
      "        yield req\n",
      "        print \"    {:>6.1f}: {:s} DOT entry\".format(env.now,name)\n",
      "        yield env.timeout(30)\n",
      "        dot.release(req)\n",
      "        print \"    {:>6.1f}: {:s} Taped\".format(env.now,name)\n",
      "        yield env.timeout(2)\n",
      "        print \"    {:>6.1f}: {:s} Strapped\".format(env.now,name)\n",
      "        yield env.timeout(2)\n",
      "        print \" -->{:>6.1f}: {:s} Shipped\".format(env.now,name)\n",
      "\n",
      "def tireOrderGenerator(env,dot):\n",
      "    for k in itertools.count():\n",
      "        yield env.timeout(random.expovariate(1.0/T_ORDER))\n",
      "        env.process(tireOrder(env,\"Order {:2d}\".format(k),dot))\n",
      "\n",
      "# create the simulation environment\n",
      "env = simpy.Environment()\n",
      "\n",
      "# create resources\n",
      "dot = simpy.Resource(env,1)\n",
      "\n",
      "# create a tireOrder\n",
      "env.process(tireOrderGenerator(env,dot))\n",
      "\n",
      "# run the simulation\n",
      "env.run(until=T_SIM)"
     ],
     "language": "python",
     "metadata": {},
     "outputs": [
      {
       "output_type": "stream",
       "stream": "stdout",
       "text": [
        " ***   4.5: Order  0 Placed\n",
        " ***   5.4: Order  1 Placed\n",
        "       9.5: Order  0 Laid Down\n",
        "      10.4: Order  1 Laid Down\n",
        " ***  12.4: Order  2 Placed\n",
        " ***  16.6: Order  3 Placed\n",
        "      17.4: Order  2 Laid Down\n",
        "      19.5: Order  0 DOT entry\n",
        "      21.6: Order  3 Laid Down\n",
        " ***  39.6: Order  4 Placed\n",
        "      44.6: Order  4 Laid Down\n",
        "      49.5: Order  0 Taped\n",
        "      49.5: Order  1 DOT entry\n",
        "      51.5: Order  0 Strapped\n",
        " -->  53.5: Order  0 Shipped\n",
        " ***  60.7: Order  5 Placed\n",
        "      65.7: Order  5 Laid Down\n",
        " ***  67.3: Order  6 Placed\n",
        "      72.3: Order  6 Laid Down\n",
        " ***  77.4: Order  7 Placed\n",
        "      79.5: Order  1 Taped\n",
        "      79.5: Order  2 DOT entry\n",
        "      81.5: Order  1 Strapped\n",
        "      82.4: Order  7 Laid Down\n",
        " -->  83.5: Order  1 Shipped\n",
        " ***  85.1: Order  8 Placed\n",
        "      90.1: Order  8 Laid Down\n",
        " ***  93.3: Order  9 Placed\n",
        "      98.3: Order  9 Laid Down\n",
        "     109.5: Order  2 Taped\n",
        "     109.5: Order  3 DOT entry\n",
        "     111.5: Order  2 Strapped\n",
        " --> 113.5: Order  2 Shipped\n",
        " *** 114.6: Order 10 Placed\n",
        " *** 114.9: Order 11 Placed\n",
        "     119.6: Order 10 Laid Down\n",
        "     119.9: Order 11 Laid Down\n"
       ]
      }
     ],
     "prompt_number": 6
    },
    {
     "cell_type": "heading",
     "level": 3,
     "metadata": {},
     "source": [
      "Data Collection"
     ]
    },
    {
     "cell_type": "markdown",
     "metadata": {},
     "source": [
      "This is getting interesting. At this point we can begin to see the tradeoffs between ordering frequency, process times, and resource constraints. To go further we'll need to gather data and process data into more usable information."
     ]
    },
    {
     "cell_type": "code",
     "collapsed": false,
     "input": [
      "import simpy\n",
      "import itertools\n",
      "import random\n",
      "import pandas as pd\n",
      "\n",
      "T_ORDER = 10\n",
      "T_SIM = 1440\n",
      "\n",
      "log = pd.DataFrame()\n",
      "log = dict()\n",
      "def writeLog(t,orderId,event):\n",
      "    log[orderId,event] = t\n",
      "\n",
      "def tireOrder(env,orderId,dot):   \n",
      "    writeLog(env.now,orderId,'Order Placed')\n",
      "    yield env.timeout(5)\n",
      "    writeLog(env.now,orderId,'Laid Down')\n",
      "    yield env.timeout(10)\n",
      "    with dot.request() as req:\n",
      "        yield req\n",
      "        writeLog(env.now,orderId,'DOT entry')\n",
      "        yield env.timeout(30)\n",
      "    writeLog(env.now,orderId,'Taped')\n",
      "    yield env.timeout(2)\n",
      "    writeLog(env.now,orderId,'Strapped')\n",
      "    yield env.timeout(2)\n",
      "    writeLog(env.now,orderId,'Shipped')\n",
      "\n",
      "def tireOrderGenerator(env,dot):\n",
      "    for k in itertools.count():\n",
      "        yield env.timeout(random.expovariate(1.0/T_ORDER))\n",
      "        env.process(tireOrder(env,k,dot))\n",
      "\n",
      "# create the simulation environment\n",
      "env = simpy.Environment()\n",
      "\n",
      "# create resources\n",
      "dot = simpy.Resource(env,2)\n",
      "\n",
      "# create a tireOrder\n",
      "env.process(tireOrderGenerator(env,dot))\n",
      "\n",
      "# run the simulation\n",
      "env.run(until=T_SIM)\n",
      "\n",
      "x = pd.DataFrame([[a,b,log[a,b]] for (a,b) in log.keys()])\n",
      "y = x.pivot(index=0,columns=1,values=2).reset_index()\n",
      "columns = y.columns\n",
      "display(columns)\n",
      "y = y[columns[1:]]\n",
      "\n",
      "y.plot()"
     ],
     "language": "python",
     "metadata": {},
     "outputs": [
      {
       "metadata": {},
       "output_type": "display_data",
       "text": [
        "Index([0, u'DOT entry', u'Laid Down', u'Order Placed', u'Shipped', u'Strapped', u'Taped'], dtype='object')"
       ]
      },
      {
       "metadata": {},
       "output_type": "pyout",
       "prompt_number": 14,
       "text": [
        "<matplotlib.axes.AxesSubplot at 0x10aa42dd0>"
       ]
      },
      {
       "metadata": {},
       "output_type": "display_data",
       "png": "[encoded data removed]",
       "text": [
        "<matplotlib.figure.Figure at 0x10aa36510>"
       ]
      }
     ],
     "prompt_number": 14
    },
    {
     "cell_type": "heading",
     "level": 3,
     "metadata": {},
     "source": [
      "Complete Model"
     ]
    },
    {
     "cell_type": "markdown",
     "metadata": {},
     "source": [
      "Repackage as a function that can be called and to return a trace of events."
     ]
    },
    {
     "cell_type": "code",
     "collapsed": false,
     "input": [
      "import simpy\n",
      "import itertools\n",
      "import random\n",
      "import pandas as pd\n",
      "\n",
      "T_ORDER = 10        # average time between orders.\n",
      "T_SIM = 5*1440        # simulation period\n",
      "\n",
      "N_picker = 3        # number of product pickers\n",
      "N_DOT = 2           # number of DOT \n",
      "\n",
      "class eventLog(object):\n",
      "    def __init__(self):\n",
      "        self._data = dict()\n",
      "        \n",
      "    def write(self,t,orderId,event):\n",
      "        self._data[orderId,event] = t\n",
      "    \n",
      "    @property\n",
      "    def DataFrame(self):\n",
      "        df = pd.DataFrame([[a,b,self._data[a,b]] for (a,b) in self._data.keys()])      \n",
      "        df = df.pivot(index=0,columns=1,values=2).reset_index()\n",
      "        return df[list(df.columns)[1:]]\n",
      "\n",
      "# Process to handle a single tireOrder\n",
      "def tireOrder(env,log,picker,DOT,orderId):\n",
      "    # log order\n",
      "    log.write(env.now,orderId,'a. Order Placed')\n",
      "    \n",
      "    # Lay down the order\n",
      "    with picker.request() as req1:\n",
      "        yield req1\n",
      "        yield env.timeout(random.randint(10,30))\n",
      "        log.write(env.now,orderId,'b. Laid Down')\n",
      "        picker.release(req1)\n",
      "    \n",
      "        # DOT entry \n",
      "        with DOT.request() as req2:\n",
      "            yield req2\n",
      "            yield env.timeout(random.randint(5,10))\n",
      "            log.write(env.now,orderId,'c. DOT entry')\n",
      "            DOT.release(req2)\n",
      "        \n",
      "            # Taping\n",
      "            yield env.timeout(2)\n",
      "            log.write(env.now,orderId,'d. Taped')\n",
      "    \n",
      "            # Strapping\n",
      "            yield env.timeout(2)\n",
      "            log.write(env.now,orderId,'e. Strapped')\n",
      "    \n",
      "            # Shipping\n",
      "            yield env.timeout(10)\n",
      "            log.write(env.now,orderId,'f. Shipped')\n",
      "\n",
      "# Generates tireOrders following a Poisson process at rate 1/T_ORDER\n",
      "def orderGenerator(env,log,picker,DOT):\n",
      "    for orderNumber in itertools.count():\n",
      "        yield env.timeout(random.expovariate(1.0/T_ORDER))\n",
      "        env.process(tireOrder(env,log,picker,DOT,orderNumber))\n",
      "\n",
      "# Perform one simulation and return pandas DataFrame\n",
      "def simulate():\n",
      "    env = simpy.Environment()\n",
      "    log = eventLog() \n",
      "    picker = simpy.Resource(env,N_picker)\n",
      "    DOT = simpy.Resource(env,N_DOT)\n",
      "    env.process(orderGenerator(env,log,picker,DOT))\n",
      "    env.run(until=T_SIM) \n",
      "    return log.DataFrame\n",
      "\n",
      "log = simulate()\n",
      "log.plot()\n",
      "xlabel('Order Number')\n",
      "ylabel('Time [minutes]')"
     ],
     "language": "python",
     "metadata": {},
     "outputs": [
      {
       "metadata": {},
       "output_type": "pyout",
       "prompt_number": 8,
       "text": [
        "<matplotlib.text.Text at 0x109e07710>"
       ]
      },
      {
       "metadata": {},
       "output_type": "display_data",
       "png": "[encoded data removed]",
       "text": [
        "<matplotlib.figure.Figure at 0x109dc4350>"
       ]
      }
     ],
     "prompt_number": 8
    },
    {
     "cell_type": "code",
     "collapsed": false,
     "input": [
      "display(log)"
     ],
     "language": "python",
     "metadata": {},
     "outputs": [
      {
       "html": [
        "<div style=\"max-height:1000px;max-width:1500px;overflow:auto;\">\n",
        "<table border=\"1\" class=\"dataframe\">\n",
        "  <thead>\n",
        "    <tr style=\"text-align: right;\">\n",
        "      <th>1</th>\n",
        "      <th>a. Order Placed</th>\n",
        "      <th>b. Laid Down</th>\n",
        "      <th>c. DOT entry</th>\n",
        "      <th>d. Taped</th>\n",
        "      <th>e. Strapped</th>\n",
        "      <th>f. Shipped</th>\n",
        "    </tr>\n",
        "  </thead>\n",
        "  <tbody>\n",
        "    <tr>\n",
        "      <th>0 </th>\n",
        "      <td>   0.774267</td>\n",
        "      <td>  14.774267</td>\n",
        "      <td>  21.774267</td>\n",
        "      <td>  23.774267</td>\n",
        "      <td>  25.774267</td>\n",
        "      <td>  35.774267</td>\n",
        "    </tr>\n",
        "    <tr>\n",
        "      <th>1 </th>\n",
        "      <td>   9.623459</td>\n",
        "      <td>  39.623459</td>\n",
        "      <td>  44.623459</td>\n",
        "      <td>  46.623459</td>\n",
        "      <td>  48.623459</td>\n",
        "      <td>  58.623459</td>\n",
        "    </tr>\n",
        "    <tr>\n",
        "      <th>2 </th>\n",
        "      <td>  16.408870</td>\n",
        "      <td>  35.408870</td>\n",
        "      <td>  42.408870</td>\n",
        "      <td>  44.408870</td>\n",
        "      <td>  46.408870</td>\n",
        "      <td>  56.408870</td>\n",
        "    </tr>\n",
        "    <tr>\n",
        "      <th>3 </th>\n",
        "      <td>  17.139741</td>\n",
        "      <td>  41.139741</td>\n",
        "      <td>  47.408870</td>\n",
        "      <td>  49.408870</td>\n",
        "      <td>  51.408870</td>\n",
        "      <td>  61.408870</td>\n",
        "    </tr>\n",
        "    <tr>\n",
        "      <th>4 </th>\n",
        "      <td>  40.974105</td>\n",
        "      <td>  55.974105</td>\n",
        "      <td>  60.974105</td>\n",
        "      <td>  62.974105</td>\n",
        "      <td>  64.974105</td>\n",
        "      <td>  74.974105</td>\n",
        "    </tr>\n",
        "    <tr>\n",
        "      <th>5 </th>\n",
        "      <td>  48.758587</td>\n",
        "      <td>  62.758587</td>\n",
        "      <td>  71.758587</td>\n",
        "      <td>  73.758587</td>\n",
        "      <td>  75.758587</td>\n",
        "      <td>  85.758587</td>\n",
        "    </tr>\n",
        "    <tr>\n",
        "      <th>6 </th>\n",
        "      <td>  72.314062</td>\n",
        "      <td>  85.314062</td>\n",
        "      <td>  94.314062</td>\n",
        "      <td>  96.314062</td>\n",
        "      <td>  98.314062</td>\n",
        "      <td> 108.314062</td>\n",
        "    </tr>\n",
        "    <tr>\n",
        "      <th>7 </th>\n",
        "      <td>  76.171120</td>\n",
        "      <td> 106.171120</td>\n",
        "      <td> 116.171120</td>\n",
        "      <td> 118.171120</td>\n",
        "      <td> 120.171120</td>\n",
        "      <td> 130.171120</td>\n",
        "    </tr>\n",
        "    <tr>\n",
        "      <th>8 </th>\n",
        "      <td> 111.502874</td>\n",
        "      <td> 139.502874</td>\n",
        "      <td> 146.502874</td>\n",
        "      <td> 148.502874</td>\n",
        "      <td> 150.502874</td>\n",
        "      <td> 160.502874</td>\n",
        "    </tr>\n",
        "    <tr>\n",
        "      <th>9 </th>\n",
        "      <td> 121.037407</td>\n",
        "      <td> 143.037407</td>\n",
        "      <td> 149.037407</td>\n",
        "      <td> 151.037407</td>\n",
        "      <td> 153.037407</td>\n",
        "      <td> 163.037407</td>\n",
        "    </tr>\n",
        "    <tr>\n",
        "      <th>10</th>\n",
        "      <td> 124.032114</td>\n",
        "      <td> 148.032114</td>\n",
        "      <td> 154.032114</td>\n",
        "      <td> 156.032114</td>\n",
        "      <td> 158.032114</td>\n",
        "      <td> 168.032114</td>\n",
        "    </tr>\n",
        "    <tr>\n",
        "      <th>11</th>\n",
        "      <td> 136.645007</td>\n",
        "      <td> 154.502874</td>\n",
        "      <td> 160.502874</td>\n",
        "      <td> 162.502874</td>\n",
        "      <td> 164.502874</td>\n",
        "      <td> 174.502874</td>\n",
        "    </tr>\n",
        "    <tr>\n",
        "      <th>12</th>\n",
        "      <td> 153.893108</td>\n",
        "      <td> 173.893108</td>\n",
        "      <td> 178.893108</td>\n",
        "      <td> 180.893108</td>\n",
        "      <td> 182.893108</td>\n",
        "      <td> 192.893108</td>\n",
        "    </tr>\n",
        "    <tr>\n",
        "      <th>13</th>\n",
        "      <td> 165.706468</td>\n",
        "      <td> 176.706468</td>\n",
        "      <td> 183.706468</td>\n",
        "      <td> 185.706468</td>\n",
        "      <td> 187.706468</td>\n",
        "      <td> 197.706468</td>\n",
        "    </tr>\n",
        "    <tr>\n",
        "      <th>14</th>\n",
        "      <td> 184.909285</td>\n",
        "      <td> 204.909285</td>\n",
        "      <td> 212.909285</td>\n",
        "      <td> 214.909285</td>\n",
        "      <td> 216.909285</td>\n",
        "      <td> 226.909285</td>\n",
        "    </tr>\n",
        "    <tr>\n",
        "      <th>15</th>\n",
        "      <td> 193.258337</td>\n",
        "      <td> 220.258337</td>\n",
        "      <td> 227.258337</td>\n",
        "      <td> 229.258337</td>\n",
        "      <td> 231.258337</td>\n",
        "      <td> 241.258337</td>\n",
        "    </tr>\n",
        "    <tr>\n",
        "      <th>16</th>\n",
        "      <td> 208.759438</td>\n",
        "      <td> 223.759438</td>\n",
        "      <td> 237.258337</td>\n",
        "      <td> 239.258337</td>\n",
        "      <td> 241.258337</td>\n",
        "      <td> 251.258337</td>\n",
        "    </tr>\n",
        "    <tr>\n",
        "      <th>17</th>\n",
        "      <td> 209.600357</td>\n",
        "      <td> 222.600357</td>\n",
        "      <td> 232.600357</td>\n",
        "      <td> 234.600357</td>\n",
        "      <td> 236.600357</td>\n",
        "      <td> 246.600357</td>\n",
        "    </tr>\n",
        "    <tr>\n",
        "      <th>18</th>\n",
        "      <td> 211.259339</td>\n",
        "      <td> 237.258337</td>\n",
        "      <td> 246.258337</td>\n",
        "      <td> 248.258337</td>\n",
        "      <td> 250.258337</td>\n",
        "      <td> 260.258337</td>\n",
        "    </tr>\n",
        "    <tr>\n",
        "      <th>19</th>\n",
        "      <td> 223.977708</td>\n",
        "      <td> 235.977708</td>\n",
        "      <td> 240.977708</td>\n",
        "      <td> 242.977708</td>\n",
        "      <td> 244.977708</td>\n",
        "      <td> 254.977708</td>\n",
        "    </tr>\n",
        "    <tr>\n",
        "      <th>20</th>\n",
        "      <td> 229.724967</td>\n",
        "      <td> 247.724967</td>\n",
        "      <td> 252.724967</td>\n",
        "      <td> 254.724967</td>\n",
        "      <td> 256.724967</td>\n",
        "      <td> 266.724967</td>\n",
        "    </tr>\n",
        "    <tr>\n",
        "      <th>21</th>\n",
        "      <td> 233.803156</td>\n",
        "      <td> 250.977708</td>\n",
        "      <td> 255.977708</td>\n",
        "      <td> 257.977708</td>\n",
        "      <td> 259.977708</td>\n",
        "      <td> 269.977708</td>\n",
        "    </tr>\n",
        "    <tr>\n",
        "      <th>22</th>\n",
        "      <td> 237.806591</td>\n",
        "      <td> 255.806591</td>\n",
        "      <td> 262.806591</td>\n",
        "      <td> 264.806591</td>\n",
        "      <td> 266.806591</td>\n",
        "      <td> 276.806591</td>\n",
        "    </tr>\n",
        "    <tr>\n",
        "      <th>23</th>\n",
        "      <td> 253.851072</td>\n",
        "      <td> 269.851072</td>\n",
        "      <td> 277.851072</td>\n",
        "      <td> 279.851072</td>\n",
        "      <td> 281.851072</td>\n",
        "      <td> 291.851072</td>\n",
        "    </tr>\n",
        "    <tr>\n",
        "      <th>24</th>\n",
        "      <td> 258.639919</td>\n",
        "      <td> 273.639919</td>\n",
        "      <td> 281.639919</td>\n",
        "      <td> 283.639919</td>\n",
        "      <td> 285.639919</td>\n",
        "      <td> 295.639919</td>\n",
        "    </tr>\n",
        "    <tr>\n",
        "      <th>25</th>\n",
        "      <td> 278.323775</td>\n",
        "      <td> 293.323775</td>\n",
        "      <td> 302.323775</td>\n",
        "      <td> 304.323775</td>\n",
        "      <td> 306.323775</td>\n",
        "      <td> 316.323775</td>\n",
        "    </tr>\n",
        "    <tr>\n",
        "      <th>26</th>\n",
        "      <td> 282.318195</td>\n",
        "      <td> 296.318195</td>\n",
        "      <td> 306.318195</td>\n",
        "      <td> 308.318195</td>\n",
        "      <td> 310.318195</td>\n",
        "      <td> 320.318195</td>\n",
        "    </tr>\n",
        "    <tr>\n",
        "      <th>27</th>\n",
        "      <td> 283.733395</td>\n",
        "      <td> 313.733395</td>\n",
        "      <td> 318.733395</td>\n",
        "      <td> 320.733395</td>\n",
        "      <td> 322.733395</td>\n",
        "      <td> 332.733395</td>\n",
        "    </tr>\n",
        "    <tr>\n",
        "      <th>28</th>\n",
        "      <td> 293.405578</td>\n",
        "      <td> 312.405578</td>\n",
        "      <td> 320.405578</td>\n",
        "      <td> 322.405578</td>\n",
        "      <td> 324.405578</td>\n",
        "      <td> 334.405578</td>\n",
        "    </tr>\n",
        "    <tr>\n",
        "      <th>29</th>\n",
        "      <td> 298.520340</td>\n",
        "      <td> 326.520340</td>\n",
        "      <td> 336.520340</td>\n",
        "      <td> 338.520340</td>\n",
        "      <td> 340.520340</td>\n",
        "      <td> 350.520340</td>\n",
        "    </tr>\n",
        "    <tr>\n",
        "      <th>30</th>\n",
        "      <td> 317.277642</td>\n",
        "      <td> 337.277642</td>\n",
        "      <td> 342.277642</td>\n",
        "      <td> 344.277642</td>\n",
        "      <td> 346.277642</td>\n",
        "      <td> 356.277642</td>\n",
        "    </tr>\n",
        "    <tr>\n",
        "      <th>31</th>\n",
        "      <td> 325.196855</td>\n",
        "      <td> 335.196855</td>\n",
        "      <td> 342.196855</td>\n",
        "      <td> 344.196855</td>\n",
        "      <td> 346.196855</td>\n",
        "      <td> 356.196855</td>\n",
        "    </tr>\n",
        "    <tr>\n",
        "      <th>32</th>\n",
        "      <td> 348.612469</td>\n",
        "      <td> 376.612469</td>\n",
        "      <td> 386.612469</td>\n",
        "      <td> 388.612469</td>\n",
        "      <td> 390.612469</td>\n",
        "      <td> 400.612469</td>\n",
        "    </tr>\n",
        "    <tr>\n",
        "      <th>33</th>\n",
        "      <td> 362.253041</td>\n",
        "      <td> 388.253041</td>\n",
        "      <td> 396.253041</td>\n",
        "      <td> 398.253041</td>\n",
        "      <td> 400.253041</td>\n",
        "      <td> 410.253041</td>\n",
        "    </tr>\n",
        "    <tr>\n",
        "      <th>34</th>\n",
        "      <td> 391.468727</td>\n",
        "      <td> 414.468727</td>\n",
        "      <td> 424.468727</td>\n",
        "      <td> 426.468727</td>\n",
        "      <td> 428.468727</td>\n",
        "      <td> 438.468727</td>\n",
        "    </tr>\n",
        "    <tr>\n",
        "      <th>35</th>\n",
        "      <td> 414.472660</td>\n",
        "      <td> 438.472660</td>\n",
        "      <td> 445.472660</td>\n",
        "      <td> 447.472660</td>\n",
        "      <td> 449.472660</td>\n",
        "      <td> 459.472660</td>\n",
        "    </tr>\n",
        "    <tr>\n",
        "      <th>36</th>\n",
        "      <td> 419.363207</td>\n",
        "      <td> 432.363207</td>\n",
        "      <td> 437.363207</td>\n",
        "      <td> 439.363207</td>\n",
        "      <td> 441.363207</td>\n",
        "      <td> 451.363207</td>\n",
        "    </tr>\n",
        "    <tr>\n",
        "      <th>37</th>\n",
        "      <td> 420.173286</td>\n",
        "      <td> 443.173286</td>\n",
        "      <td> 452.472660</td>\n",
        "      <td> 454.472660</td>\n",
        "      <td> 456.472660</td>\n",
        "      <td> 466.472660</td>\n",
        "    </tr>\n",
        "    <tr>\n",
        "      <th>38</th>\n",
        "      <td> 432.374916</td>\n",
        "      <td> 442.374916</td>\n",
        "      <td> 450.374916</td>\n",
        "      <td> 452.374916</td>\n",
        "      <td> 454.374916</td>\n",
        "      <td> 464.374916</td>\n",
        "    </tr>\n",
        "    <tr>\n",
        "      <th>39</th>\n",
        "      <td> 444.720705</td>\n",
        "      <td> 463.720705</td>\n",
        "      <td> 471.720705</td>\n",
        "      <td> 473.720705</td>\n",
        "      <td> 475.720705</td>\n",
        "      <td> 485.720705</td>\n",
        "    </tr>\n",
        "    <tr>\n",
        "      <th>40</th>\n",
        "      <td> 469.467389</td>\n",
        "      <td> 486.467389</td>\n",
        "      <td> 494.467389</td>\n",
        "      <td> 496.467389</td>\n",
        "      <td> 498.467389</td>\n",
        "      <td> 508.467389</td>\n",
        "    </tr>\n",
        "    <tr>\n",
        "      <th>41</th>\n",
        "      <td> 476.953097</td>\n",
        "      <td> 490.953097</td>\n",
        "      <td> 498.953097</td>\n",
        "      <td> 500.953097</td>\n",
        "      <td> 502.953097</td>\n",
        "      <td> 512.953097</td>\n",
        "    </tr>\n",
        "    <tr>\n",
        "      <th>42</th>\n",
        "      <td> 484.172047</td>\n",
        "      <td> 509.172047</td>\n",
        "      <td> 515.172047</td>\n",
        "      <td> 517.172047</td>\n",
        "      <td> 519.172047</td>\n",
        "      <td> 529.172047</td>\n",
        "    </tr>\n",
        "    <tr>\n",
        "      <th>43</th>\n",
        "      <td> 499.336218</td>\n",
        "      <td> 511.336218</td>\n",
        "      <td> 518.336218</td>\n",
        "      <td> 520.336218</td>\n",
        "      <td> 522.336218</td>\n",
        "      <td> 532.336218</td>\n",
        "    </tr>\n",
        "    <tr>\n",
        "      <th>44</th>\n",
        "      <td> 510.827184</td>\n",
        "      <td> 537.827184</td>\n",
        "      <td> 547.189494</td>\n",
        "      <td> 549.189494</td>\n",
        "      <td> 551.189494</td>\n",
        "      <td> 561.189494</td>\n",
        "    </tr>\n",
        "    <tr>\n",
        "      <th>45</th>\n",
        "      <td> 512.189494</td>\n",
        "      <td> 534.189494</td>\n",
        "      <td> 539.189494</td>\n",
        "      <td> 541.189494</td>\n",
        "      <td> 543.189494</td>\n",
        "      <td> 553.189494</td>\n",
        "    </tr>\n",
        "    <tr>\n",
        "      <th>46</th>\n",
        "      <td> 516.182112</td>\n",
        "      <td> 531.182112</td>\n",
        "      <td> 541.182112</td>\n",
        "      <td> 543.182112</td>\n",
        "      <td> 545.182112</td>\n",
        "      <td> 555.182112</td>\n",
        "    </tr>\n",
        "    <tr>\n",
        "      <th>47</th>\n",
        "      <td> 524.638148</td>\n",
        "      <td> 552.182112</td>\n",
        "      <td> 559.182112</td>\n",
        "      <td> 561.182112</td>\n",
        "      <td> 563.182112</td>\n",
        "      <td> 573.182112</td>\n",
        "    </tr>\n",
        "    <tr>\n",
        "      <th>48</th>\n",
        "      <td> 535.083642</td>\n",
        "      <td> 545.083642</td>\n",
        "      <td> 554.083642</td>\n",
        "      <td> 556.083642</td>\n",
        "      <td> 558.083642</td>\n",
        "      <td> 568.083642</td>\n",
        "    </tr>\n",
        "    <tr>\n",
        "      <th>49</th>\n",
        "      <td> 536.336119</td>\n",
        "      <td> 557.827184</td>\n",
        "      <td> 564.827184</td>\n",
        "      <td> 566.827184</td>\n",
        "      <td> 568.827184</td>\n",
        "      <td> 578.827184</td>\n",
        "    </tr>\n",
        "    <tr>\n",
        "      <th>50</th>\n",
        "      <td> 542.272730</td>\n",
        "      <td> 568.083642</td>\n",
        "      <td> 573.083642</td>\n",
        "      <td> 575.083642</td>\n",
        "      <td> 577.083642</td>\n",
        "      <td> 587.083642</td>\n",
        "    </tr>\n",
        "    <tr>\n",
        "      <th>51</th>\n",
        "      <td> 553.290565</td>\n",
        "      <td> 568.290565</td>\n",
        "      <td> 577.290565</td>\n",
        "      <td> 579.290565</td>\n",
        "      <td> 581.290565</td>\n",
        "      <td> 591.290565</td>\n",
        "    </tr>\n",
        "    <tr>\n",
        "      <th>52</th>\n",
        "      <td> 560.742896</td>\n",
        "      <td> 574.742896</td>\n",
        "      <td> 579.742896</td>\n",
        "      <td> 581.742896</td>\n",
        "      <td> 583.742896</td>\n",
        "      <td> 593.742896</td>\n",
        "    </tr>\n",
        "    <tr>\n",
        "      <th>53</th>\n",
        "      <td> 587.698038</td>\n",
        "      <td> 608.698038</td>\n",
        "      <td> 615.698038</td>\n",
        "      <td> 617.698038</td>\n",
        "      <td> 619.698038</td>\n",
        "      <td> 629.698038</td>\n",
        "    </tr>\n",
        "    <tr>\n",
        "      <th>54</th>\n",
        "      <td> 593.508650</td>\n",
        "      <td> 621.508650</td>\n",
        "      <td> 630.508650</td>\n",
        "      <td> 632.508650</td>\n",
        "      <td> 634.508650</td>\n",
        "      <td> 644.508650</td>\n",
        "    </tr>\n",
        "    <tr>\n",
        "      <th>55</th>\n",
        "      <td> 593.516138</td>\n",
        "      <td> 612.516138</td>\n",
        "      <td> 621.516138</td>\n",
        "      <td> 623.516138</td>\n",
        "      <td> 625.516138</td>\n",
        "      <td> 635.516138</td>\n",
        "    </tr>\n",
        "    <tr>\n",
        "      <th>56</th>\n",
        "      <td> 609.388631</td>\n",
        "      <td> 631.388631</td>\n",
        "      <td> 637.388631</td>\n",
        "      <td> 639.388631</td>\n",
        "      <td> 641.388631</td>\n",
        "      <td> 651.388631</td>\n",
        "    </tr>\n",
        "    <tr>\n",
        "      <th>57</th>\n",
        "      <td> 629.539912</td>\n",
        "      <td> 652.539912</td>\n",
        "      <td> 661.539912</td>\n",
        "      <td> 663.539912</td>\n",
        "      <td> 665.539912</td>\n",
        "      <td> 675.539912</td>\n",
        "    </tr>\n",
        "    <tr>\n",
        "      <th>58</th>\n",
        "      <td> 635.210027</td>\n",
        "      <td> 653.210027</td>\n",
        "      <td> 658.210027</td>\n",
        "      <td> 660.210027</td>\n",
        "      <td> 662.210027</td>\n",
        "      <td> 672.210027</td>\n",
        "    </tr>\n",
        "    <tr>\n",
        "      <th>59</th>\n",
        "      <td> 655.167563</td>\n",
        "      <td> 682.167563</td>\n",
        "      <td> 687.167563</td>\n",
        "      <td> 689.167563</td>\n",
        "      <td> 691.167563</td>\n",
        "      <td> 701.167563</td>\n",
        "    </tr>\n",
        "    <tr>\n",
        "      <th></th>\n",
        "      <td>...</td>\n",
        "      <td>...</td>\n",
        "      <td>...</td>\n",
        "      <td>...</td>\n",
        "      <td>...</td>\n",
        "      <td>...</td>\n",
        "    </tr>\n",
        "  </tbody>\n",
        "</table>\n",
        "<p>729 rows \u00d7 6 columns</p>\n",
        "</div>"
       ],
       "metadata": {},
       "output_type": "display_data",
       "text": [
        "1   a. Order Placed  b. Laid Down  c. DOT entry    d. Taped  e. Strapped  \\\n",
        "0          0.774267     14.774267     21.774267   23.774267    25.774267   \n",
        "1          9.623459     39.623459     44.623459   46.623459    48.623459   \n",
        "2         16.408870     35.408870     42.408870   44.408870    46.408870   \n",
        "3         17.139741     41.139741     47.408870   49.408870    51.408870   \n",
        "4         40.974105     55.974105     60.974105   62.974105    64.974105   \n",
        "5         48.758587     62.758587     71.758587   73.758587    75.758587   \n",
        "6         72.314062     85.314062     94.314062   96.314062    98.314062   \n",
        "7         76.171120    106.171120    116.171120  118.171120   120.171120   \n",
        "8        111.502874    139.502874    146.502874  148.502874   150.502874   \n",
        "9        121.037407    143.037407    149.037407  151.037407   153.037407   \n",
        "10       124.032114    148.032114    154.032114  156.032114   158.032114   \n",
        "11       136.645007    154.502874    160.502874  162.502874   164.502874   \n",
        "12       153.893108    173.893108    178.893108  180.893108   182.893108   \n",
        "13       165.706468    176.706468    183.706468  185.706468   187.706468   \n",
        "14       184.909285    204.909285    212.909285  214.909285   216.909285   \n",
        "15       193.258337    220.258337    227.258337  229.258337   231.258337   \n",
        "16       208.759438    223.759438    237.258337  239.258337   241.258337   \n",
        "17       209.600357    222.600357    232.600357  234.600357   236.600357   \n",
        "18       211.259339    237.258337    246.258337  248.258337   250.258337   \n",
        "19       223.977708    235.977708    240.977708  242.977708   244.977708   \n",
        "20       229.724967    247.724967    252.724967  254.724967   256.724967   \n",
        "21       233.803156    250.977708    255.977708  257.977708   259.977708   \n",
        "22       237.806591    255.806591    262.806591  264.806591   266.806591   \n",
        "23       253.851072    269.851072    277.851072  279.851072   281.851072   \n",
        "24       258.639919    273.639919    281.639919  283.639919   285.639919   \n",
        "25       278.323775    293.323775    302.323775  304.323775   306.323775   \n",
        "26       282.318195    296.318195    306.318195  308.318195   310.318195   \n",
        "27       283.733395    313.733395    318.733395  320.733395   322.733395   \n",
        "28       293.405578    312.405578    320.405578  322.405578   324.405578   \n",
        "29       298.520340    326.520340    336.520340  338.520340   340.520340   \n",
        "30       317.277642    337.277642    342.277642  344.277642   346.277642   \n",
        "31       325.196855    335.196855    342.196855  344.196855   346.196855   \n",
        "32       348.612469    376.612469    386.612469  388.612469   390.612469   \n",
        "33       362.253041    388.253041    396.253041  398.253041   400.253041   \n",
        "34       391.468727    414.468727    424.468727  426.468727   428.468727   \n",
        "35       414.472660    438.472660    445.472660  447.472660   449.472660   \n",
        "36       419.363207    432.363207    437.363207  439.363207   441.363207   \n",
        "37       420.173286    443.173286    452.472660  454.472660   456.472660   \n",
        "38       432.374916    442.374916    450.374916  452.374916   454.374916   \n",
        "39       444.720705    463.720705    471.720705  473.720705   475.720705   \n",
        "40       469.467389    486.467389    494.467389  496.467389   498.467389   \n",
        "41       476.953097    490.953097    498.953097  500.953097   502.953097   \n",
        "42       484.172047    509.172047    515.172047  517.172047   519.172047   \n",
        "43       499.336218    511.336218    518.336218  520.336218   522.336218   \n",
        "44       510.827184    537.827184    547.189494  549.189494   551.189494   \n",
        "45       512.189494    534.189494    539.189494  541.189494   543.189494   \n",
        "46       516.182112    531.182112    541.182112  543.182112   545.182112   \n",
        "47       524.638148    552.182112    559.182112  561.182112   563.182112   \n",
        "48       535.083642    545.083642    554.083642  556.083642   558.083642   \n",
        "49       536.336119    557.827184    564.827184  566.827184   568.827184   \n",
        "50       542.272730    568.083642    573.083642  575.083642   577.083642   \n",
        "51       553.290565    568.290565    577.290565  579.290565   581.290565   \n",
        "52       560.742896    574.742896    579.742896  581.742896   583.742896   \n",
        "53       587.698038    608.698038    615.698038  617.698038   619.698038   \n",
        "54       593.508650    621.508650    630.508650  632.508650   634.508650   \n",
        "55       593.516138    612.516138    621.516138  623.516138   625.516138   \n",
        "56       609.388631    631.388631    637.388631  639.388631   641.388631   \n",
        "57       629.539912    652.539912    661.539912  663.539912   665.539912   \n",
        "58       635.210027    653.210027    658.210027  660.210027   662.210027   \n",
        "59       655.167563    682.167563    687.167563  689.167563   691.167563   \n",
        "                ...           ...           ...         ...          ...   \n",
        "\n",
        "1   f. Shipped  \n",
        "0    35.774267  \n",
        "1    58.623459  \n",
        "2    56.408870  \n",
        "3    61.408870  \n",
        "4    74.974105  \n",
        "5    85.758587  \n",
        "6   108.314062  \n",
        "7   130.171120  \n",
        "8   160.502874  \n",
        "9   163.037407  \n",
        "10  168.032114  \n",
        "11  174.502874  \n",
        "12  192.893108  \n",
        "13  197.706468  \n",
        "14  226.909285  \n",
        "15  241.258337  \n",
        "16  251.258337  \n",
        "17  246.600357  \n",
        "18  260.258337  \n",
        "19  254.977708  \n",
        "20  266.724967  \n",
        "21  269.977708  \n",
        "22  276.806591  \n",
        "23  291.851072  \n",
        "24  295.639919  \n",
        "25  316.323775  \n",
        "26  320.318195  \n",
        "27  332.733395  \n",
        "28  334.405578  \n",
        "29  350.520340  \n",
        "30  356.277642  \n",
        "31  356.196855  \n",
        "32  400.612469  \n",
        "33  410.253041  \n",
        "34  438.468727  \n",
        "35  459.472660  \n",
        "36  451.363207  \n",
        "37  466.472660  \n",
        "38  464.374916  \n",
        "39  485.720705  \n",
        "40  508.467389  \n",
        "41  512.953097  \n",
        "42  529.172047  \n",
        "43  532.336218  \n",
        "44  561.189494  \n",
        "45  553.189494  \n",
        "46  555.182112  \n",
        "47  573.182112  \n",
        "48  568.083642  \n",
        "49  578.827184  \n",
        "50  587.083642  \n",
        "51  591.290565  \n",
        "52  593.742896  \n",
        "53  629.698038  \n",
        "54  644.508650  \n",
        "55  635.516138  \n",
        "56  651.388631  \n",
        "57  675.539912  \n",
        "58  672.210027  \n",
        "59  701.167563  \n",
        "           ...  \n",
        "\n",
        "[729 rows x 6 columns]"
       ]
      }
     ],
     "prompt_number": 9
    },
    {
     "cell_type": "code",
     "collapsed": false,
     "input": [
      "tf = log['f. Shipped']-log['a. Order Placed']\n",
      "subplot(2,1,1)\n",
      "plot(tf)\n",
      "xlabel('Order Number')\n",
      "ylabel('Time [minutes]')\n",
      "title('Time to Complete Order')\n",
      "\n",
      "subplot(2,1,2)\n",
      "tf.hist(bins=30)\n",
      "xlabel('Time to Complete Order')\n",
      "ylabel('Count')"
     ],
     "language": "python",
     "metadata": {},
     "outputs": [
      {
       "metadata": {},
       "output_type": "pyout",
       "prompt_number": 10,
       "text": [
        "<matplotlib.text.Text at 0x109e69610>"
       ]
      },
      {
       "metadata": {},
       "output_type": "display_data",
       "png": "[encoded data removed]",
       "text": [
        "<matplotlib.figure.Figure at 0x109d8dfd0>"
       ]
      }
     ],
     "prompt_number": 10
    },
    {
     "cell_type": "code",
     "collapsed": false,
     "input": [
      "tb = log['b. Laid Down']-log['a. Order Placed']\n",
      "subplot(2,1,1)\n",
      "plot(tb)\n",
      "xlabel('Order Number')\n",
      "ylabel('Time [minutes]')\n",
      "title('Time to Laid Down')\n",
      "\n",
      "subplot(2,1,2)\n",
      "tb.hist(bins=30)\n",
      "xlabel('Time [minutes]')\n",
      "ylabel('Count')"
     ],
     "language": "python",
     "metadata": {},
     "outputs": [
      {
       "metadata": {},
       "output_type": "pyout",
       "prompt_number": 11,
       "text": [
        "<matplotlib.text.Text at 0x10a1c7ad0>"
       ]
      },
      {
       "metadata": {},
       "output_type": "display_data",
       "png": "[encoded data removed]",
       "text": [
        "<matplotlib.figure.Figure at 0x109e4b750>"
       ]
      }
     ],
     "prompt_number": 11
    },
    {
     "cell_type": "code",
     "collapsed": false,
     "input": [
      "tc = log['c. DOT entry']-log['a. Order Placed']\n",
      "subplot(2,1,1)\n",
      "plot(tc)\n",
      "xlabel('Order Number')\n",
      "ylabel('Time [minutes]')\n",
      "title('Time to DOT entry')\n",
      "\n",
      "subplot(2,1,2)\n",
      "tc.hist(bins=30)\n",
      "xlabel('Time [minutes]')\n",
      "ylabel('Count')"
     ],
     "language": "python",
     "metadata": {},
     "outputs": [
      {
       "metadata": {},
       "output_type": "pyout",
       "prompt_number": 12,
       "text": [
        "<matplotlib.text.Text at 0x10a56fa50>"
       ]
      },
      {
       "metadata": {},
       "output_type": "display_data",
       "png": "[encoded data removed]",
       "text": [
        "<matplotlib.figure.Figure at 0x10a10ed10>"
       ]
      }
     ],
     "prompt_number": 12
    },
    {
     "cell_type": "code",
     "collapsed": false,
     "input": [],
     "language": "python",
     "metadata": {},
     "outputs": [],
     "prompt_number": 12
    }
   ],
   "metadata": {}
  }
 ]
}